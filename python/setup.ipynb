{
 "cells": [
  {
   "cell_type": "code",
   "execution_count": 1,
   "metadata": {
    "collapsed": true
   },
   "outputs": [
    {
     "name": "stdout",
     "output_type": "stream",
     "text": [
      "Collecting grpcio-tools\n",
      "  Downloading grpcio_tools-1.51.1-cp39-cp39-win_amd64.whl (1.8 MB)\n",
      "     ---------------------------------------- 1.8/1.8 MB 3.9 MB/s eta 0:00:00\n",
      "Collecting grpcio>=1.51.1\n",
      "  Using cached grpcio-1.51.1-cp39-cp39-win_amd64.whl (3.7 MB)\n",
      "Collecting protobuf<5.0dev,>=4.21.6\n",
      "  Downloading protobuf-4.21.12-cp39-cp39-win_amd64.whl (527 kB)\n",
      "     -------------------------------------- 527.0/527.0 kB 3.7 MB/s eta 0:00:00\n",
      "Requirement already satisfied: setuptools in c:\\users\\khaba\\anaconda3\\lib\\site-packages (from grpcio-tools) (63.4.1)\n",
      "Installing collected packages: protobuf, grpcio, grpcio-tools\n",
      "Successfully installed grpcio-1.51.1 grpcio-tools-1.51.1 protobuf-4.21.12\n"
     ]
    }
   ],
   "source": [
    "!pip install grpcio-tools\n"
   ]
  },
  {
   "cell_type": "code",
   "execution_count": 16,
   "outputs": [
    {
     "name": "stdout",
     "output_type": "stream",
     "text": [
      "./generated does not exist.\n"
     ]
    },
    {
     "data": {
      "text/plain": "'./generated'"
     },
     "execution_count": 16,
     "metadata": {},
     "output_type": "execute_result"
    }
   ],
   "source": [
    "import os\n",
    "import shutil\n",
    "\n",
    "folder_path = './generated'\n",
    "\n",
    "if os.path.exists(folder_path):\n",
    "    shutil.rmtree(folder_path)\n",
    "    print(f\"{folder_path} deleted.\")\n",
    "else:\n",
    "    print(f\"{folder_path} does not exist.\")\n",
    "\n",
    "shutil.copytree('../ExcelMinder/ExcelMinder.Shared/protos', folder_path)\n"
   ],
   "metadata": {
    "collapsed": false
   }
  },
  {
   "cell_type": "code",
   "execution_count": 17,
   "outputs": [
    {
     "data": {
      "text/plain": "1"
     },
     "execution_count": 17,
     "metadata": {},
     "output_type": "execute_result"
    }
   ],
   "source": [
    "from grpc_tools import protoc\n",
    "\n",
    "protoc.main((\n",
    "    '',\n",
    "    '-I./generated/protos/',\n",
    "    '--python_out=.',\n",
    "    '--grpc_python_out=.',\n",
    "    './generated/protos/stock_simulator.proto',\n",
    "))"
   ],
   "metadata": {
    "collapsed": false
   }
  },
  {
   "cell_type": "code",
   "execution_count": null,
   "outputs": [],
   "source": [],
   "metadata": {
    "collapsed": false
   }
  }
 ],
 "metadata": {
  "kernelspec": {
   "display_name": "Python 3",
   "language": "python",
   "name": "python3"
  },
  "language_info": {
   "codemirror_mode": {
    "name": "ipython",
    "version": 2
   },
   "file_extension": ".py",
   "mimetype": "text/x-python",
   "name": "python",
   "nbconvert_exporter": "python",
   "pygments_lexer": "ipython2",
   "version": "2.7.6"
  }
 },
 "nbformat": 4,
 "nbformat_minor": 0
}
