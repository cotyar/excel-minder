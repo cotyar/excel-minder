{
 "cells": [
  {
   "cell_type": "code",
   "execution_count": 28,
   "metadata": {
    "collapsed": true
   },
   "outputs": [],
   "source": [
    "import time\n",
    "\n",
    "import requests\n",
    "import csv\n",
    "import os\n",
    "from typing import List, Dict, Optional\n",
    "\n",
    "with open(\"../sec/alpha_vantage.key\", \"r\") as file:\n",
    "    av_key: str = file.read()\n",
    "\n",
    "av_base_url: str = 'https://www.alphavantage.co/query?function='\n",
    "def get_from_av(url: str) -> Dict:\n",
    "    response = requests.get(url)\n",
    "    print(response.json())\n",
    "    return response.json()\n",
    "\n",
    "def get_from_av_csv(url: str) -> List[Dict]:\n",
    "    rows = []\n",
    "    response = requests.get(url)\n",
    "    if response.status_code == 200:\n",
    "        # parse the CSV data\n",
    "        data = response.text\n",
    "        reader = csv.DictReader(data.splitlines())\n",
    "        for row in reader:\n",
    "            rows.append(row)\n",
    "    else:\n",
    "        print(\"Error:\", response.status_code)\n",
    "    return rows\n",
    "\n",
    "def get_fx_pair(currency_from: str, currency_to: str) -> Dict:\n",
    "    url: str = f'{av_base_url}CURRENCY_EXCHANGE_RATE&from_currency={currency_from}&to_currency={currency_to}&apikey={av_key}'\n",
    "    return get_from_av(url)\n",
    "\n",
    "def get_symbols() -> List[str]:\n",
    "    url: str = f'{av_base_url}LISTING_STATUS&apikey={av_key}'\n",
    "    rows = get_from_av_csv(url)\n",
    "    return list(map(lambda r: r['symbol'], rows))\n",
    "\n",
    "def get_symbol(symbol: str) -> Dict:\n",
    "    url: str = f'{av_base_url}TIME_SERIES_DAILY_ADJUSTED&symbol={symbol}&apikey={av_key}'\n",
    "    return get_from_av(url)\n",
    "\n",
    "def get_symbol_csv(symbol: str) -> List[Dict]:\n",
    "    url: str = f'{av_base_url}TIME_SERIES_DAILY_ADJUSTED&symbol={symbol}&datatype=csv&apikey={av_key}'\n",
    "    return get_from_av_csv(url)\n",
    "\n",
    "def load_prices_from_av(symbols: List[str], to_filename:str):\n",
    "    symbol_column = 'symbol'\n",
    "    symbol = symbols[0]\n",
    "    rows = get_symbol_csv(symbol)\n",
    "    column_names = [symbol_column] + list(rows[0].keys())\n",
    "\n",
    "    (write_headers, file_mode) = (False, 'a') if os.path.exists(to_filename) else (True, 'x')\n",
    "\n",
    "    with open(to_filename, file_mode, newline='') as csvfile:\n",
    "        csvwriter = csv.DictWriter(csvfile, fieldnames = column_names)\n",
    "\n",
    "        if write_headers:\n",
    "            csvwriter.writeheader()\n",
    "\n",
    "        for symbol in symbols:\n",
    "            rows = get_symbol_csv(symbol)\n",
    "            for row in rows:\n",
    "                row[symbol_column] = symbol\n",
    "                csvwriter.writerow(row)\n",
    "\n",
    "            time.sleep(1)\n",
    "\n"
   ]
  },
  {
   "cell_type": "code",
   "execution_count": 29,
   "outputs": [
    {
     "data": {
      "text/plain": "['A',\n 'AA',\n 'AAA',\n 'AAAU',\n 'AAC',\n 'AAC-U',\n 'AAC-WS',\n 'AACG',\n 'AACI',\n 'AACIU',\n 'AACIW',\n 'AADI',\n 'AADR',\n 'AAIC',\n 'AAIC-P-B',\n 'AAIC-P-C',\n 'AAIN',\n 'AAL',\n 'AAMC',\n 'AAME',\n 'AAN',\n 'AAOI',\n 'AAON',\n 'AAP',\n 'AAPB',\n 'AAPD',\n 'AAPL',\n 'AAPU',\n 'AAT',\n 'AAU',\n 'AAWW',\n 'AAXJ',\n 'AB',\n 'ABB',\n 'ABBV',\n 'ABC',\n 'ABCB',\n 'ABCL',\n 'ABCM',\n 'ABEO',\n 'ABEQ',\n 'ABEV',\n 'ABG',\n 'ABGI',\n 'ABIO',\n 'ABM',\n 'ABNB',\n 'ABOS',\n 'ABR',\n 'ABR-P-D',\n 'ABR-P-E',\n 'ABR-P-F',\n 'ABSI',\n 'ABST',\n 'ABT',\n 'ABUS',\n 'ABVC',\n 'AC',\n 'ACA',\n 'ACAB',\n 'ACABU',\n 'ACABW',\n 'ACAC',\n 'ACACU',\n 'ACACW',\n 'ACAD',\n 'ACAH',\n 'ACAHU',\n 'ACAHW',\n 'ACAQ',\n 'ACAQ-U',\n 'ACAQ-WS',\n 'ACAX',\n 'ACAXR',\n 'ACAXU',\n 'ACAXW',\n 'ACB',\n 'ACBA',\n 'ACBAU',\n 'ACBAW',\n 'ACCD',\n 'ACCO',\n 'ACDC',\n 'ACDCW',\n 'ACDI',\n 'ACDI-U',\n 'ACEL',\n 'ACER',\n 'ACES',\n 'ACET',\n 'ACGL',\n 'ACGLN',\n 'ACGLO',\n 'ACGN',\n 'ACHC',\n 'ACHL',\n 'ACHR',\n 'ACHV',\n 'ACI',\n 'ACIO',\n 'ACIU',\n 'ACIW',\n 'ACLS',\n 'ACLX',\n 'ACM',\n 'ACMR',\n 'ACN',\n 'ACNB',\n 'ACNT',\n 'ACON',\n 'ACONW',\n 'ACOR',\n 'ACP',\n 'ACP-P-A',\n 'ACQR',\n 'ACQRU',\n 'ACQRW',\n 'ACR',\n 'ACR-P-C',\n 'ACR-P-D',\n 'ACRE',\n 'ACRO',\n 'ACRO-U',\n 'ACRO-WS',\n 'ACRS',\n 'ACRV',\n 'ACRX',\n 'ACSI',\n 'ACST',\n 'ACT',\n 'ACTG',\n 'ACTV',\n 'ACU',\n 'ACV',\n 'ACVA',\n 'ACVF',\n 'ACWF',\n 'ACWI',\n 'ACWV',\n 'ACWX',\n 'ACXP',\n 'ADAG',\n 'ADAL',\n 'ADALU',\n 'ADALW',\n 'ADAP',\n 'ADBE',\n 'ADC',\n 'ADC-P-A',\n 'ADCT',\n 'ADD',\n 'ADEA',\n 'ADER',\n 'ADERU',\n 'ADERW',\n 'ADES',\n 'ADEX',\n 'ADEX-U',\n 'ADEX-WS',\n 'ADFI',\n 'ADI',\n 'ADIL',\n 'ADILW',\n 'ADIV',\n 'ADM',\n 'ADMA',\n 'ADME',\n 'ADMP',\n 'ADN',\n 'ADNT',\n 'ADNWW',\n 'ADOC',\n 'ADOCR',\n 'ADOCW',\n 'ADP',\n 'ADPT',\n 'ADPV',\n 'ADRA',\n 'ADRA-U',\n 'ADRA-WS',\n 'ADRE',\n 'ADRT',\n 'ADRT-U',\n 'ADSE',\n 'ADSEW',\n 'ADSK',\n 'ADT',\n 'ADTH',\n 'ADTHW',\n 'ADTN',\n 'ADTX',\n 'ADUS',\n 'ADV',\n 'ADVM',\n 'ADX',\n 'ADXN',\n 'AE',\n 'AEAC',\n 'AEACU',\n 'AEACW',\n 'AEAE',\n 'AEAEU',\n 'AEAEW',\n 'AEE',\n 'AEF',\n 'AEFC',\n 'AEG',\n 'AEHA',\n 'AEHAU',\n 'AEHAW',\n 'AEHL',\n 'AEHR',\n 'AEI',\n 'AEIS',\n 'AEL',\n 'AEL-P-A',\n 'AEL-P-B',\n 'AEM',\n 'AEMB',\n 'AEMD',\n 'AENZ',\n 'AEO',\n 'AEP',\n 'AEPPZ',\n 'AER',\n 'AES',\n 'AESC',\n 'AESR',\n 'AEVA',\n 'AEVA-WS',\n 'AEY',\n 'AEYE',\n 'AEZS',\n 'AFAR',\n 'AFARU',\n 'AFARW',\n 'AFB',\n 'AFBI',\n 'AFCG',\n 'AFG',\n 'AFGB',\n 'AFGC',\n 'AFGD',\n 'AFGE',\n 'AFIB',\n 'AFIF',\n 'AFK',\n 'AFL',\n 'AFLG',\n 'AFMC',\n 'AFMD',\n 'AFRI',\n 'AFRIW',\n 'AFRM',\n 'AFSM',\n 'AFT',\n 'AFTR',\n 'AFTR-U',\n 'AFTR-WS',\n 'AFTY',\n 'AFYA',\n 'AG',\n 'AGAC',\n 'AGAC-U',\n 'AGAE',\n 'AGBA',\n 'AGBAW',\n 'AGCO',\n 'AGD',\n 'AGE',\n 'AGEN',\n 'AGFS',\n 'AGFY',\n 'AGG',\n 'AGGH',\n 'AGGR',\n 'AGGRU',\n 'AGGRW',\n 'AGGY',\n 'AGI',\n 'AGIH',\n 'AGIL',\n 'AGILW',\n 'AGIO',\n 'AGL',\n 'AGLE',\n 'AGM',\n 'AGM-A',\n 'AGM-P-C',\n 'AGM-P-D',\n 'AGM-P-E',\n 'AGM-P-F',\n 'AGM-P-G',\n 'AGMH',\n 'AGNC',\n 'AGNCL',\n 'AGNCM',\n 'AGNCN',\n 'AGNCO',\n 'AGNCP',\n 'AGNG',\n 'AGO',\n 'AGOV',\n 'AGOX',\n 'AGQ',\n 'AGR',\n 'AGRH',\n 'AGRI',\n 'AGRIW',\n 'AGRO',\n 'AGRX',\n 'AGS',\n 'AGTC',\n 'AGTI',\n 'AGX',\n 'AGYS',\n 'AGZ',\n 'AGZD',\n 'AHCO',\n 'AHG',\n 'AHH',\n 'AHH-P-A',\n 'AHHX',\n 'AHI',\n 'AHL-P-C',\n 'AHL-P-D',\n 'AHL-P-E',\n 'AHOY',\n 'AHPI',\n 'AHRN',\n 'AHRNU',\n 'AHRNW',\n 'AHT',\n 'AHT-P-D',\n 'AHT-P-F',\n 'AHT-P-G',\n 'AHT-P-H',\n 'AHT-P-I',\n 'AHYB',\n 'AI',\n 'AIA',\n 'AIB',\n 'AIBBR',\n 'AIBBU',\n 'AIC',\n 'AIEQ',\n 'AIF',\n 'AIG',\n 'AIG-P-A',\n 'AIH',\n 'AIHS',\n 'AILG',\n 'AILV',\n 'AIM',\n 'AIMAU',\n 'AIMAW',\n 'AIMBU',\n 'AIMC',\n 'AIMDW',\n 'AIN',\n 'AINC',\n 'AIO',\n 'AIP',\n 'AIQ',\n 'AIR',\n 'AIRC',\n 'AIRG',\n 'AIRI',\n 'AIRR',\n 'AIRS',\n 'AIRT',\n 'AIRTP',\n 'AIT',\n 'AIU',\n 'AIV',\n 'AIVI',\n 'AIVL',\n 'AIZ',\n 'AIZN',\n 'AJG',\n 'AJRD',\n 'AJX',\n 'AJXA',\n 'AKA',\n 'AKAM',\n 'AKAN',\n 'AKBA',\n 'AKLI',\n 'AKO-A',\n 'AKO-B',\n 'AKR',\n 'AKRO',\n 'AKTS',\n 'AKTX',\n 'AKU',\n 'AKUS',\n 'AKYA',\n 'AL',\n 'AL-P-A',\n 'ALAR',\n 'ALB',\n 'ALBO',\n 'ALBT',\n 'ALC',\n 'ALCC',\n 'ALCO',\n 'ALDX',\n 'ALE',\n 'ALEC',\n 'ALEX',\n 'ALG',\n 'ALGM',\n 'ALGN',\n 'ALGS',\n 'ALGT',\n 'ALHC',\n 'ALIM',\n 'ALIT',\n 'ALK',\n 'ALKS',\n 'ALKT',\n 'ALL',\n 'ALL-P-B',\n 'ALL-P-G',\n 'ALL-P-H',\n 'ALL-P-I',\n 'ALLE',\n 'ALLG',\n 'ALLG-WS',\n 'ALLK',\n 'ALLO',\n 'ALLR',\n 'ALLT',\n 'ALLY',\n 'ALNY',\n 'ALOR',\n 'ALORU',\n 'ALORW',\n 'ALOT',\n 'ALPA',\n 'ALPAU',\n 'ALPAW',\n 'ALPN',\n 'ALPP',\n 'ALPS',\n 'ALR',\n 'ALRM',\n 'ALRN',\n 'ALRS',\n 'ALSA',\n 'ALSAR',\n 'ALSAU',\n 'ALSAW',\n 'ALSN',\n 'ALT',\n 'ALTG',\n 'ALTG-P-A',\n 'ALTI',\n 'ALTIW',\n 'ALTL',\n 'ALTO',\n 'ALTR',\n 'ALTU',\n 'ALTUU',\n 'ALTUW',\n 'ALTY',\n 'ALV',\n 'ALVO',\n 'ALVOW',\n 'ALVR',\n 'ALX',\n 'ALXO',\n 'ALYA',\n 'ALZN',\n 'AM',\n 'AMAL',\n 'AMAM',\n 'AMAO',\n 'AMAOU',\n 'AMAOW',\n 'AMAT',\n 'AMAX',\n 'AMBA',\n 'AMBC',\n 'AMBC-WS',\n 'AMBO',\n 'AMBP',\n 'AMBP-WS',\n 'AMC',\n 'AMCI',\n 'AMCIU',\n 'AMCR',\n 'AMCX',\n 'AMD',\n 'AME',\n 'AMED',\n 'AMEH',\n 'AMG',\n 'AMGN',\n 'AMH',\n 'AMH-P-G',\n 'AMH-P-H',\n 'AMID',\n 'AMJ',\n 'AMK',\n 'AMKR',\n 'AMLI',\n 'AMLP',\n 'AMLX',\n 'AMN',\n 'AMNA',\n 'AMNB',\n 'AMND',\n 'AMOM',\n 'AMOT',\n 'AMOV',\n 'AMP',\n 'AMPE',\n 'AMPG',\n 'AMPGW',\n 'AMPH',\n 'AMPL',\n 'AMPS',\n 'AMPX',\n 'AMPY',\n 'AMR',\n 'AMRC',\n 'AMRK',\n 'AMRN',\n 'AMRS',\n 'AMRX',\n 'AMS',\n 'AMSC',\n 'AMSF',\n 'AMST',\n 'AMSWA',\n 'AMT',\n 'AMTB',\n 'AMTD',\n 'AMTI',\n 'AMTR',\n 'AMTX',\n 'AMUB',\n 'AMV',\n 'AMWD',\n 'AMWL',\n 'AMX',\n 'AMYT',\n 'AMZA',\n 'AMZD',\n 'AMZN',\n 'AMZU',\n 'AN',\n 'ANAB',\n 'ANAC',\n 'ANAC-U',\n 'ANAC-WS',\n 'ANDE',\n 'ANEB',\n 'ANET',\n 'ANEW',\n 'ANF',\n 'ANGH',\n 'ANGHW',\n 'ANGI',\n 'ANGL',\n 'ANGN',\n 'ANGO',\n 'ANIK',\n 'ANIP',\n 'ANIX',\n 'ANNX',\n 'ANPC',\n 'ANSS',\n 'ANTE',\n 'ANTX',\n 'ANVS',\n 'ANY',\n 'ANZU',\n 'ANZUU',\n 'ANZUW',\n 'AOA',\n 'AOD',\n 'AOGOU',\n 'AOGOW',\n 'AOK',\n 'AOM',\n 'AOMR',\n 'AON',\n 'AOR',\n 'AORT',\n 'AOS',\n 'AOSL',\n 'AOTG',\n 'AOUT',\n 'AP',\n 'AP-WS',\n 'APA',\n 'APAC',\n 'APACU',\n 'APACW',\n 'APAM',\n 'APCA',\n 'APCA-U',\n 'APCA-WS',\n 'APCX',\n 'APCXW',\n 'APD',\n 'APDN',\n 'APE',\n 'APEI',\n 'APEN',\n 'APG',\n 'APGB',\n 'APGB-U',\n 'APGB-WS',\n 'APGN',\n 'APGNW',\n 'APH',\n 'API',\n 'APLD',\n 'APLE',\n 'APLS',\n 'APLT',\n 'APM',\n 'APMI',\n 'APMIU',\n 'APMIW',\n 'APN',\n 'APN-U',\n 'APN-WS',\n 'APO',\n 'APOG',\n 'APP',\n 'APPF',\n 'APPH',\n 'APPHW',\n 'APPN',\n 'APPS',\n 'APRE',\n 'APRN',\n 'APRT',\n 'APRW',\n 'APRZ',\n 'APT',\n 'APTM',\n 'APTMU',\n 'APTMW',\n 'APTO',\n 'APTV',\n 'APTV-P-A',\n 'APTX',\n 'APVO',\n 'APWC',\n 'APXI',\n 'APXIU',\n 'APXIW',\n 'APYX',\n 'AQB',\n 'AQGX',\n 'AQMS',\n 'AQN',\n 'AQNA',\n 'AQNB',\n 'AQNU',\n 'AQST',\n 'AQU',\n 'AQUA',\n 'AQUNR',\n 'AQUNU',\n 'AQWA',\n 'AR',\n 'ARAV',\n 'ARAY',\n 'ARB',\n 'ARBE',\n 'ARBEW',\n 'ARBG',\n 'ARBGU',\n 'ARBGW',\n 'ARBK',\n 'ARBKL',\n 'ARC',\n 'ARCB',\n 'ARCC',\n 'ARCE',\n 'ARCH',\n 'ARCK',\n 'ARCKU',\n 'ARCKW',\n 'ARCM',\n 'ARCO',\n 'ARCT',\n 'ARDC',\n 'ARDS',\n 'ARDX',\n 'ARE',\n 'AREB',\n 'AREBW',\n 'AREC',\n 'AREN',\n 'ARES',\n 'ARGD',\n 'ARGO',\n 'ARGO-P-A',\n 'ARGT',\n 'ARGU',\n 'ARGUU',\n 'ARGUW',\n 'ARGX',\n 'ARHS',\n 'ARI',\n 'ARIS',\n 'ARIZ',\n 'ARIZR',\n 'ARIZU',\n 'ARIZW',\n 'ARKF',\n 'ARKG',\n 'ARKK',\n 'ARKO',\n 'ARKQ',\n 'ARKR',\n 'ARKW',\n 'ARKX',\n 'ARL',\n 'ARLO',\n 'ARLP',\n 'ARMK',\n 'ARMP',\n 'ARMR',\n 'ARNC',\n 'AROC',\n 'AROW',\n 'ARP',\n 'ARQQ',\n 'ARQQW',\n 'ARQT',\n 'ARR',\n 'ARR-P-C',\n 'ARRW',\n 'ARRWU',\n 'ARRWW',\n 'ARRY',\n 'ARTE',\n 'ARTEU',\n 'ARTEW',\n 'ARTL',\n 'ARTLW',\n 'ARTNA',\n 'ARTW',\n 'ARVL',\n 'ARVN',\n 'ARVR',\n 'ARW',\n 'ARWR',\n 'ARYD',\n 'ARYE',\n 'ASA',\n 'ASAI',\n 'ASAN',\n 'ASAP',\n 'ASB',\n 'ASB-P-E',\n 'ASB-P-F',\n 'ASC',\n 'ASCA',\n 'ASCAR',\n 'ASCAU',\n 'ASCAW',\n 'ASCB',\n 'ASCBR',\n 'ASCBU',\n 'ASCBW',\n 'ASEA',\n 'ASET',\n 'ASG',\n 'ASGI',\n 'ASGN',\n 'ASH',\n 'ASHR',\n 'ASHS',\n 'ASHX',\n 'ASIX',\n 'ASLE',\n 'ASLN',\n 'ASM',\n 'ASMB',\n 'ASML',\n 'ASND',\n 'ASNS',\n 'ASO',\n 'ASPA',\n 'ASPAU',\n 'ASPAW',\n 'ASPI',\n 'ASPN',\n 'ASPS',\n 'ASPU',\n 'ASPY',\n 'ASR',\n 'ASRT',\n 'ASRV',\n 'ASTC',\n 'ASTE',\n 'ASTI',\n 'ASTL',\n 'ASTLW',\n 'ASTR',\n 'ASTS',\n 'ASTSW',\n 'ASUR',\n 'ASX',\n 'ASXC',\n 'ASYS',\n 'ATAI',\n 'ATAK',\n 'ATAKR',\n 'ATAKU',\n 'ATAKW',\n 'ATAQ',\n 'ATAQ-U',\n 'ATAT',\n 'ATCO',\n 'ATCO-P-D',\n 'ATCO-P-H',\n 'ATCO-P-I',\n 'ATCOL',\n 'ATCX',\n 'ATEC',\n 'ATEK',\n 'ATEK-U',\n 'ATEK-WS',\n 'ATEN',\n 'ATER',\n 'ATEST-A',\n 'ATEST-B',\n 'ATEST-C',\n 'ATEST-G',\n 'ATEST-H',\n 'ATEST-L',\n 'ATEX',\n 'ATFV',\n 'ATGE',\n 'ATH-P-A',\n 'ATH-P-C',\n 'ATH-P-D',\n 'ATH-P-E',\n 'ATHA',\n 'ATHE',\n 'ATHM',\n 'ATHX',\n 'ATI',\n 'ATIF',\n 'ATIP',\n 'ATKR',\n 'ATLC',\n 'ATLCL',\n 'ATLCP',\n 'ATLO',\n 'ATMC',\n 'ATMCR',\n 'ATMCU',\n 'ATMCW',\n 'ATMP',\n 'ATMV',\n 'ATMVR',\n 'ATMVU',\n 'ATNF',\n 'ATNFW',\n 'ATNI',\n 'ATNM',\n 'ATNX',\n 'ATO',\n 'ATOM',\n 'ATOS',\n 'ATR',\n 'ATRA',\n 'ATRC',\n 'ATRI',\n 'ATRO',\n 'ATSG',\n 'ATTO',\n 'ATUS',\n 'ATVI',\n 'ATXG',\n 'ATXI',\n 'ATXS',\n 'ATY',\n 'AU',\n 'AUB',\n 'AUB-P-A',\n 'AUBN',\n 'AUD',\n 'AUDC',\n 'AUGX',\n 'AUGZ',\n 'AUID',\n 'AULT',\n 'AULT-P-D',\n 'AUMN',\n 'AUPH',\n 'AUR',\n 'AURA',\n 'AURC',\n 'AURCU',\n 'AURCW',\n 'AUROW',\n 'AUSF',\n 'AUST',\n 'AUTL',\n 'AUUD',\n 'AUUDW',\n 'AUVI',\n 'AUVIP',\n 'AUY',\n 'AVA',\n 'AVAC',\n 'AVACU',\n 'AVACW',\n 'AVAH',\n 'AVAL',\n 'AVAV',\n 'AVB',\n 'AVD',\n 'AVDE',\n 'AVDL',\n 'AVDV',\n 'AVDX',\n 'AVEM',\n 'AVEO',\n 'AVES',\n 'AVGE',\n 'AVGO',\n 'AVGR',\n 'AVHI',\n 'AVHIU',\n 'AVHIW',\n 'AVID',\n 'AVIE',\n 'AVIG',\n 'AVIR',\n 'AVIV',\n 'AVK',\n 'AVLV',\n 'AVMU',\n 'AVNS',\n 'AVNT',\n 'AVNW',\n 'AVO',\n 'AVPT',\n 'AVPTW',\n 'AVRE',\n 'AVRO',\n 'AVSC',\n 'AVSD',\n 'AVSE',\n 'AVSF',\n 'AVSU',\n 'AVT',\n 'AVTA',\n 'AVTE',\n 'AVTR',\n 'AVTX',\n 'AVUS',\n 'AVUV',\n 'AVXL',\n 'AVY',\n 'AVYA',\n 'AWAY',\n 'AWF',\n 'AWH',\n 'AWI',\n 'AWK',\n 'AWP',\n 'AWR',\n 'AWRE',\n 'AWX',\n 'AWYX',\n 'AX',\n 'AXAC',\n 'AXAC-R',\n 'AXAC-WS',\n 'AXDX',\n 'AXGN',\n 'AXL',\n 'AXLA',\n 'AXNX',\n 'AXON',\n 'AXP',\n 'AXR',\n 'AXS',\n 'AXS-P-E',\n 'AXSM',\n 'AXTA',\n 'AXTI',\n 'AY',\n 'AYI',\n 'AYLA',\n 'AYRO',\n ...]"
     },
     "execution_count": 29,
     "metadata": {},
     "output_type": "execute_result"
    }
   ],
   "source": [
    "symbols = get_symbols()\n",
    "symbols"
   ],
   "metadata": {
    "collapsed": false
   }
  },
  {
   "cell_type": "code",
   "execution_count": 30,
   "outputs": [
    {
     "ename": "ValueError",
     "evalue": "dict contains fields not in fieldnames: '{'",
     "output_type": "error",
     "traceback": [
      "\u001B[1;31m---------------------------------------------------------------------------\u001B[0m",
      "\u001B[1;31mValueError\u001B[0m                                Traceback (most recent call last)",
      "\u001B[1;32m~\\AppData\\Local\\Temp\\ipykernel_25208\\2965485603.py\u001B[0m in \u001B[0;36m<module>\u001B[1;34m\u001B[0m\n\u001B[0;32m      1\u001B[0m \u001B[1;31m# load_prices_from_av(['MSFT'], f'{os.path.dirname(os.getcwd())}\\ExcelMinder\\ExcelMinder\\Data\\Files\\stock_prices.csv')\u001B[0m\u001B[1;33m\u001B[0m\u001B[1;33m\u001B[0m\u001B[0m\n\u001B[1;32m----> 2\u001B[1;33m \u001B[0mload_prices_from_av\u001B[0m\u001B[1;33m(\u001B[0m\u001B[0msymbols\u001B[0m\u001B[1;33m,\u001B[0m \u001B[1;34mf'{os.path.dirname(os.getcwd())}\\ExcelMinder\\ExcelMinder\\Data\\Files\\stock_prices.csv'\u001B[0m\u001B[1;33m)\u001B[0m\u001B[1;33m\u001B[0m\u001B[1;33m\u001B[0m\u001B[0m\n\u001B[0m",
      "\u001B[1;32m~\\AppData\\Local\\Temp\\ipykernel_25208\\1606780290.py\u001B[0m in \u001B[0;36mload_prices_from_av\u001B[1;34m(symbols, to_filename)\u001B[0m\n\u001B[0;32m     63\u001B[0m             \u001B[1;32mfor\u001B[0m \u001B[0mrow\u001B[0m \u001B[1;32min\u001B[0m \u001B[0mrows\u001B[0m\u001B[1;33m:\u001B[0m\u001B[1;33m\u001B[0m\u001B[1;33m\u001B[0m\u001B[0m\n\u001B[0;32m     64\u001B[0m                 \u001B[0mrow\u001B[0m\u001B[1;33m[\u001B[0m\u001B[0msymbol_column\u001B[0m\u001B[1;33m]\u001B[0m \u001B[1;33m=\u001B[0m \u001B[0msymbol\u001B[0m\u001B[1;33m\u001B[0m\u001B[1;33m\u001B[0m\u001B[0m\n\u001B[1;32m---> 65\u001B[1;33m                 \u001B[0mcsvwriter\u001B[0m\u001B[1;33m.\u001B[0m\u001B[0mwriterow\u001B[0m\u001B[1;33m(\u001B[0m\u001B[0mrow\u001B[0m\u001B[1;33m)\u001B[0m\u001B[1;33m\u001B[0m\u001B[1;33m\u001B[0m\u001B[0m\n\u001B[0m\u001B[0;32m     66\u001B[0m \u001B[1;33m\u001B[0m\u001B[0m\n\u001B[0;32m     67\u001B[0m             \u001B[0mtime\u001B[0m\u001B[1;33m.\u001B[0m\u001B[0msleep\u001B[0m\u001B[1;33m(\u001B[0m\u001B[1;36m1\u001B[0m\u001B[1;33m)\u001B[0m\u001B[1;33m\u001B[0m\u001B[1;33m\u001B[0m\u001B[0m\n",
      "\u001B[1;32m~\\anaconda3\\lib\\csv.py\u001B[0m in \u001B[0;36mwriterow\u001B[1;34m(self, rowdict)\u001B[0m\n\u001B[0;32m    152\u001B[0m \u001B[1;33m\u001B[0m\u001B[0m\n\u001B[0;32m    153\u001B[0m     \u001B[1;32mdef\u001B[0m \u001B[0mwriterow\u001B[0m\u001B[1;33m(\u001B[0m\u001B[0mself\u001B[0m\u001B[1;33m,\u001B[0m \u001B[0mrowdict\u001B[0m\u001B[1;33m)\u001B[0m\u001B[1;33m:\u001B[0m\u001B[1;33m\u001B[0m\u001B[1;33m\u001B[0m\u001B[0m\n\u001B[1;32m--> 154\u001B[1;33m         \u001B[1;32mreturn\u001B[0m \u001B[0mself\u001B[0m\u001B[1;33m.\u001B[0m\u001B[0mwriter\u001B[0m\u001B[1;33m.\u001B[0m\u001B[0mwriterow\u001B[0m\u001B[1;33m(\u001B[0m\u001B[0mself\u001B[0m\u001B[1;33m.\u001B[0m\u001B[0m_dict_to_list\u001B[0m\u001B[1;33m(\u001B[0m\u001B[0mrowdict\u001B[0m\u001B[1;33m)\u001B[0m\u001B[1;33m)\u001B[0m\u001B[1;33m\u001B[0m\u001B[1;33m\u001B[0m\u001B[0m\n\u001B[0m\u001B[0;32m    155\u001B[0m \u001B[1;33m\u001B[0m\u001B[0m\n\u001B[0;32m    156\u001B[0m     \u001B[1;32mdef\u001B[0m \u001B[0mwriterows\u001B[0m\u001B[1;33m(\u001B[0m\u001B[0mself\u001B[0m\u001B[1;33m,\u001B[0m \u001B[0mrowdicts\u001B[0m\u001B[1;33m)\u001B[0m\u001B[1;33m:\u001B[0m\u001B[1;33m\u001B[0m\u001B[1;33m\u001B[0m\u001B[0m\n",
      "\u001B[1;32m~\\anaconda3\\lib\\csv.py\u001B[0m in \u001B[0;36m_dict_to_list\u001B[1;34m(self, rowdict)\u001B[0m\n\u001B[0;32m    147\u001B[0m             \u001B[0mwrong_fields\u001B[0m \u001B[1;33m=\u001B[0m \u001B[0mrowdict\u001B[0m\u001B[1;33m.\u001B[0m\u001B[0mkeys\u001B[0m\u001B[1;33m(\u001B[0m\u001B[1;33m)\u001B[0m \u001B[1;33m-\u001B[0m \u001B[0mself\u001B[0m\u001B[1;33m.\u001B[0m\u001B[0mfieldnames\u001B[0m\u001B[1;33m\u001B[0m\u001B[1;33m\u001B[0m\u001B[0m\n\u001B[0;32m    148\u001B[0m             \u001B[1;32mif\u001B[0m \u001B[0mwrong_fields\u001B[0m\u001B[1;33m:\u001B[0m\u001B[1;33m\u001B[0m\u001B[1;33m\u001B[0m\u001B[0m\n\u001B[1;32m--> 149\u001B[1;33m                 raise ValueError(\"dict contains fields not in fieldnames: \"\n\u001B[0m\u001B[0;32m    150\u001B[0m                                  + \", \".join([repr(x) for x in wrong_fields]))\n\u001B[0;32m    151\u001B[0m         \u001B[1;32mreturn\u001B[0m \u001B[1;33m(\u001B[0m\u001B[0mrowdict\u001B[0m\u001B[1;33m.\u001B[0m\u001B[0mget\u001B[0m\u001B[1;33m(\u001B[0m\u001B[0mkey\u001B[0m\u001B[1;33m,\u001B[0m \u001B[0mself\u001B[0m\u001B[1;33m.\u001B[0m\u001B[0mrestval\u001B[0m\u001B[1;33m)\u001B[0m \u001B[1;32mfor\u001B[0m \u001B[0mkey\u001B[0m \u001B[1;32min\u001B[0m \u001B[0mself\u001B[0m\u001B[1;33m.\u001B[0m\u001B[0mfieldnames\u001B[0m\u001B[1;33m)\u001B[0m\u001B[1;33m\u001B[0m\u001B[1;33m\u001B[0m\u001B[0m\n",
      "\u001B[1;31mValueError\u001B[0m: dict contains fields not in fieldnames: '{'"
     ]
    }
   ],
   "source": [
    "# load_prices_from_av(['MSFT'], f'{os.path.dirname(os.getcwd())}\\ExcelMinder\\ExcelMinder\\Data\\Files\\stock_prices.csv')\n",
    "load_prices_from_av(symbols, f'{os.path.dirname(os.getcwd())}\\ExcelMinder\\ExcelMinder\\Data\\Files\\stock_prices.csv')"
   ],
   "metadata": {
    "collapsed": false
   }
  },
  {
   "cell_type": "code",
   "execution_count": 2,
   "outputs": [],
   "source": [
    "# # replace the \"demo\" apikey below with your own key from https://www.alphavantage.co/support/#api-key\n",
    "# # url = f'https://www.alphavantage.co/query?function=CURRENCY_EXCHANGE_RATE&from_currency=USD&to_currency=JPY&apikey={av_key}'\n",
    "# # r = requests.get(url)\n",
    "# # data = r.json()\n",
    "#\n",
    "# currency_pairs: List[List[str]] = [['USD', 'GBP'], ['USD', 'EUR'], ['USD', 'JPY'], ['USD', 'CAD'], ['USD', 'CHF'], ['EUR', 'GBP'], ['EUR', 'JPY'], ['EUR', 'CHF'], ['USD', 'BRL'], ['USD', 'CNY'], ['USD', 'INR']]\n",
    "#\n",
    "# pairs: Dict[str,Dict] = {}\n",
    "# # for p in currency_pairs:\n",
    "# #     val = get_fx_pair(p[0], p[1])\n",
    "# #     pairs[p[0] + p[1]] = val\n",
    "#\n",
    "# print(pairs)"
   ],
   "metadata": {
    "collapsed": false
   }
  },
  {
   "cell_type": "code",
   "execution_count": 5,
   "outputs": [],
   "source": [
    "class Security:\n",
    "    def __init__(self, symbol: str, name: str, exchange: str, assetType: str, ipoDate: Optional[str], delistingDate: Optional[str], status: str):\n",
    "        self.symbol = symbol\n",
    "        self.name = name\n",
    "        self.exchange = exchange\n",
    "        self.assetType = assetType\n",
    "        self.ipoDate = ipoDate\n",
    "        self.delistingDate = delistingDate\n",
    "        self.status = status\n",
    "\n",
    "def parse_securities(file_path: str) -> List[Security]:\n",
    "    securities = []\n",
    "    with open(file_path, 'r') as f:\n",
    "        reader = csv.DictReader(f)\n",
    "        for row in reader:\n",
    "            securities.append(Security(\n",
    "                symbol=row['symbol'],\n",
    "                name=row['name'],\n",
    "                exchange=row['exchange'],\n",
    "                assetType=row['assetType'],\n",
    "                ipoDate=row['ipoDate'],\n",
    "                delistingDate=row['delistingDate'],\n",
    "                status=row['status']\n",
    "            ))\n",
    "    return securities"
   ],
   "metadata": {
    "collapsed": false
   }
  },
  {
   "cell_type": "code",
   "execution_count": 10,
   "outputs": [
    {
     "name": "stdout",
     "output_type": "stream",
     "text": [
      "File location using os.getcwd(): C:\\Work\\excel-minder_\n"
     ]
    },
    {
     "ename": "NameError",
     "evalue": "name '__file__' is not defined",
     "output_type": "error",
     "traceback": [
      "\u001B[1;31m---------------------------------------------------------------------------\u001B[0m",
      "\u001B[1;31mNameError\u001B[0m                                 Traceback (most recent call last)",
      "\u001B[1;32m~\\AppData\\Local\\Temp\\ipykernel_25208\\3164337020.py\u001B[0m in \u001B[0;36m<module>\u001B[1;34m\u001B[0m\n\u001B[0;32m      3\u001B[0m \u001B[0mprint\u001B[0m\u001B[1;33m(\u001B[0m\u001B[1;34m\"File location using os.getcwd():\"\u001B[0m\u001B[1;33m,\u001B[0m \u001B[0mos\u001B[0m\u001B[1;33m.\u001B[0m\u001B[0mpath\u001B[0m\u001B[1;33m.\u001B[0m\u001B[0mdirname\u001B[0m\u001B[1;33m(\u001B[0m\u001B[0mos\u001B[0m\u001B[1;33m.\u001B[0m\u001B[0mgetcwd\u001B[0m\u001B[1;33m(\u001B[0m\u001B[1;33m)\u001B[0m\u001B[1;33m)\u001B[0m\u001B[1;33m)\u001B[0m\u001B[1;33m\u001B[0m\u001B[1;33m\u001B[0m\u001B[0m\n\u001B[0;32m      4\u001B[0m \u001B[1;33m\u001B[0m\u001B[0m\n\u001B[1;32m----> 5\u001B[1;33m \u001B[0mprint\u001B[0m\u001B[1;33m(\u001B[0m\u001B[1;34mf\"File location using __file__ variable: {os.path.realpath(os.path.dirname(__file__))}\"\u001B[0m\u001B[1;33m)\u001B[0m\u001B[1;33m\u001B[0m\u001B[1;33m\u001B[0m\u001B[0m\n\u001B[0m",
      "\u001B[1;31mNameError\u001B[0m: name '__file__' is not defined"
     ]
    }
   ],
   "source": [
    "import os\n",
    "\n",
    "print(\"File location using os.getcwd():\", os.path.dirname(os.getcwd()))\n",
    "\n",
    "print(f\"File location using __file__ variable: {os.path.realpath(os.path.dirname(__file__))}\")"
   ],
   "metadata": {
    "collapsed": false
   }
  },
  {
   "cell_type": "code",
   "execution_count": null,
   "outputs": [],
   "source": [],
   "metadata": {
    "collapsed": false
   }
  }
 ],
 "metadata": {
  "kernelspec": {
   "display_name": "Python 3",
   "language": "python",
   "name": "python3"
  },
  "language_info": {
   "codemirror_mode": {
    "name": "ipython",
    "version": 2
   },
   "file_extension": ".py",
   "mimetype": "text/x-python",
   "name": "python",
   "nbconvert_exporter": "python",
   "pygments_lexer": "ipython2",
   "version": "2.7.6"
  }
 },
 "nbformat": 4,
 "nbformat_minor": 0
}
