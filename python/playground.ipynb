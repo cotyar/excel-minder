{
 "cells": [
  {
   "cell_type": "code",
   "execution_count": 23,
   "metadata": {
    "collapsed": true
   },
   "outputs": [],
   "source": [
    "import requests\n",
    "from typing import List, Dict\n",
    "from polling2 import poll_decorator\n",
    "\n",
    "with open(\"../sec/alpha_vantage.key\", \"r\") as file:\n",
    "    av_key: str = file.read()\n",
    "\n",
    "av_base_url: str = 'https://www.alphavantage.co/query?function='\n",
    "def get_from_av(url: str) -> Dict:\n",
    "    req = requests.get(url)\n",
    "    print(req.json())\n",
    "    req.json()\n",
    "\n",
    "def get_fx_pair(currency_from: str, currency_to: str) -> Dict:\n",
    "    url: str = f'{av_base_url}CURRENCY_EXCHANGE_RATE&from_currency={currency_from}&to_currency={currency_to}&apikey={av_key}'\n",
    "    req = get_from_av(url)\n",
    "    req\n",
    "\n",
    "# @poll_decorator(step=1, timeout=15)\n",
    "# def wait_until_exists(uri):\n",
    "#     return requests.get(uri).status_code != 404"
   ]
  },
  {
   "cell_type": "code",
   "execution_count": 24,
   "outputs": [
    {
     "name": "stdout",
     "output_type": "stream",
     "text": [
      "https://www.alphavantage.co/query?function=CURRENCY_EXCHANGE_RATE&from_currency=USD&to_currency=GBP&apikey=RU28ZGGQLQXHQNUP\n",
      "{'Note': 'Thank you for using Alpha Vantage! Our standard API call frequency is 5 calls per minute and 500 calls per day. Please visit https://www.alphavantage.co/premium/ if you would like to target a higher API call frequency.'}\n",
      "None\n",
      "None\n",
      "https://www.alphavantage.co/query?function=CURRENCY_EXCHANGE_RATE&from_currency=USD&to_currency=EUR&apikey=RU28ZGGQLQXHQNUP\n",
      "{'Note': 'Thank you for using Alpha Vantage! Our standard API call frequency is 5 calls per minute and 500 calls per day. Please visit https://www.alphavantage.co/premium/ if you would like to target a higher API call frequency.'}\n",
      "None\n",
      "None\n",
      "https://www.alphavantage.co/query?function=CURRENCY_EXCHANGE_RATE&from_currency=USD&to_currency=JPY&apikey=RU28ZGGQLQXHQNUP\n",
      "{'Note': 'Thank you for using Alpha Vantage! Our standard API call frequency is 5 calls per minute and 500 calls per day. Please visit https://www.alphavantage.co/premium/ if you would like to target a higher API call frequency.'}\n",
      "None\n",
      "None\n",
      "https://www.alphavantage.co/query?function=CURRENCY_EXCHANGE_RATE&from_currency=USD&to_currency=CAD&apikey=RU28ZGGQLQXHQNUP\n",
      "{'Note': 'Thank you for using Alpha Vantage! Our standard API call frequency is 5 calls per minute and 500 calls per day. Please visit https://www.alphavantage.co/premium/ if you would like to target a higher API call frequency.'}\n",
      "None\n",
      "None\n",
      "https://www.alphavantage.co/query?function=CURRENCY_EXCHANGE_RATE&from_currency=USD&to_currency=CHF&apikey=RU28ZGGQLQXHQNUP\n",
      "{'Note': 'Thank you for using Alpha Vantage! Our standard API call frequency is 5 calls per minute and 500 calls per day. Please visit https://www.alphavantage.co/premium/ if you would like to target a higher API call frequency.'}\n",
      "None\n",
      "None\n",
      "https://www.alphavantage.co/query?function=CURRENCY_EXCHANGE_RATE&from_currency=EUR&to_currency=GBP&apikey=RU28ZGGQLQXHQNUP\n",
      "{'Note': 'Thank you for using Alpha Vantage! Our standard API call frequency is 5 calls per minute and 500 calls per day. Please visit https://www.alphavantage.co/premium/ if you would like to target a higher API call frequency.'}\n",
      "None\n",
      "None\n",
      "https://www.alphavantage.co/query?function=CURRENCY_EXCHANGE_RATE&from_currency=EUR&to_currency=JPY&apikey=RU28ZGGQLQXHQNUP\n",
      "{'Note': 'Thank you for using Alpha Vantage! Our standard API call frequency is 5 calls per minute and 500 calls per day. Please visit https://www.alphavantage.co/premium/ if you would like to target a higher API call frequency.'}\n",
      "None\n",
      "None\n",
      "https://www.alphavantage.co/query?function=CURRENCY_EXCHANGE_RATE&from_currency=EUR&to_currency=CHF&apikey=RU28ZGGQLQXHQNUP\n",
      "{'Note': 'Thank you for using Alpha Vantage! Our standard API call frequency is 5 calls per minute and 500 calls per day. Please visit https://www.alphavantage.co/premium/ if you would like to target a higher API call frequency.'}\n",
      "None\n",
      "None\n",
      "https://www.alphavantage.co/query?function=CURRENCY_EXCHANGE_RATE&from_currency=USD&to_currency=BRL&apikey=RU28ZGGQLQXHQNUP\n",
      "{'Note': 'Thank you for using Alpha Vantage! Our standard API call frequency is 5 calls per minute and 500 calls per day. Please visit https://www.alphavantage.co/premium/ if you would like to target a higher API call frequency.'}\n",
      "None\n",
      "None\n",
      "https://www.alphavantage.co/query?function=CURRENCY_EXCHANGE_RATE&from_currency=USD&to_currency=CNY&apikey=RU28ZGGQLQXHQNUP\n",
      "{'Note': 'Thank you for using Alpha Vantage! Our standard API call frequency is 5 calls per minute and 500 calls per day. Please visit https://www.alphavantage.co/premium/ if you would like to target a higher API call frequency.'}\n",
      "None\n",
      "None\n",
      "https://www.alphavantage.co/query?function=CURRENCY_EXCHANGE_RATE&from_currency=USD&to_currency=INR&apikey=RU28ZGGQLQXHQNUP\n",
      "{'Note': 'Thank you for using Alpha Vantage! Our standard API call frequency is 5 calls per minute and 500 calls per day. Please visit https://www.alphavantage.co/premium/ if you would like to target a higher API call frequency.'}\n",
      "None\n",
      "None\n",
      "{'USDGBP': None, 'USDEUR': None, 'USDJPY': None, 'USDCAD': None, 'USDCHF': None, 'EURGBP': None, 'EURJPY': None, 'EURCHF': None, 'USDBRL': None, 'USDCNY': None, 'USDINR': None}\n"
     ]
    }
   ],
   "source": [
    "# replace the \"demo\" apikey below with your own key from https://www.alphavantage.co/support/#api-key\n",
    "# url = f'https://www.alphavantage.co/query?function=CURRENCY_EXCHANGE_RATE&from_currency=USD&to_currency=JPY&apikey={av_key}'\n",
    "# r = requests.get(url)\n",
    "# data = r.json()\n",
    "\n",
    "currency_pairs: List[List[str]] = [['USD', 'GBP'], ['USD', 'EUR'], ['USD', 'JPY'], ['USD', 'CAD'], ['USD', 'CHF'], ['EUR', 'GBP'], ['EUR', 'JPY'], ['EUR', 'CHF'], ['USD', 'BRL'], ['USD', 'CNY'], ['USD', 'INR']]\n",
    "\n",
    "pairs: Dict[str,Dict] = {}\n",
    "for p in currency_pairs:\n",
    "    val = get_fx_pair(p[0], p[1])\n",
    "    pairs[p[0] + p[1]] = val\n",
    "\n",
    "print(pairs)"
   ],
   "metadata": {
    "collapsed": false
   }
  },
  {
   "cell_type": "code",
   "execution_count": null,
   "outputs": [],
   "source": [],
   "metadata": {
    "collapsed": false,
    "pycharm": {
     "is_executing": true
    }
   }
  },
  {
   "cell_type": "code",
   "execution_count": 2,
   "outputs": [],
   "source": [],
   "metadata": {
    "collapsed": false
   }
  }
 ],
 "metadata": {
  "kernelspec": {
   "display_name": "Python 3",
   "language": "python",
   "name": "python3"
  },
  "language_info": {
   "codemirror_mode": {
    "name": "ipython",
    "version": 2
   },
   "file_extension": ".py",
   "mimetype": "text/x-python",
   "name": "python",
   "nbconvert_exporter": "python",
   "pygments_lexer": "ipython2",
   "version": "2.7.6"
  }
 },
 "nbformat": 4,
 "nbformat_minor": 0
}
