{
 "cells": [
  {
   "cell_type": "code",
   "execution_count": 1,
   "outputs": [],
   "source": [
    "import grpc\n",
    "\n",
    "import stock_simulator_pb2 as stock_simulator_pb2\n",
    "import stock_simulator_pb2_grpc as stock_simulator_pb2_grpc"
   ],
   "metadata": {
    "collapsed": false
   }
  },
  {
   "cell_type": "code",
   "execution_count": 2,
   "outputs": [],
   "source": [
    "# Create a channel\n",
    "# Create a stub (client)\n",
    "# Call the remote procedure\n",
    "# Close the channel\n"
   ],
   "metadata": {
    "collapsed": false
   }
  },
  {
   "cell_type": "code",
   "execution_count": 21,
   "outputs": [],
   "source": [
    "channel = grpc.insecure_channel('localhost:5046')  # Create a channel\n",
    "stub = stock_simulator_pb2_grpc.StockSimulatorStub(channel)  # Create a stub (client)"
   ],
   "metadata": {
    "collapsed": false
   }
  },
  {
   "cell_type": "code",
   "execution_count": 23,
   "outputs": [
    {
     "ename": "_InactiveRpcError",
     "evalue": "<_InactiveRpcError of RPC that terminated with:\n\tstatus = StatusCode.UNAVAILABLE\n\tdetails = \"failed to connect to all addresses; last error: UNAVAILABLE: ipv4:127.0.0.1:5046: Failed parsing HTTP/2\"\n\tdebug_error_string = \"UNKNOWN:failed to connect to all addresses; last error: UNAVAILABLE: ipv4:127.0.0.1:5046: Failed parsing HTTP/2 {grpc_status:14, created_time:\"2023-03-09T08:55:49.697503717+00:00\"}\"\n>",
     "output_type": "error",
     "traceback": [
      "\u001B[1;31m---------------------------------------------------------------------------\u001B[0m",
      "\u001B[1;31m_InactiveRpcError\u001B[0m                         Traceback (most recent call last)",
      "\u001B[1;32m~\\AppData\\Local\\Temp\\ipykernel_6808\\3391727106.py\u001B[0m in \u001B[0;36m<module>\u001B[1;34m\u001B[0m\n\u001B[1;32m----> 1\u001B[1;33m \u001B[0mstub\u001B[0m\u001B[1;33m.\u001B[0m\u001B[0mGetStockPrice\u001B[0m\u001B[1;33m(\u001B[0m\u001B[0mstock_simulator_pb2\u001B[0m\u001B[1;33m.\u001B[0m\u001B[0mStockRequest\u001B[0m\u001B[1;33m(\u001B[0m\u001B[0msymbol\u001B[0m\u001B[1;33m=\u001B[0m\u001B[1;34m'AAPL'\u001B[0m\u001B[1;33m)\u001B[0m\u001B[1;33m)\u001B[0m\u001B[1;33m\u001B[0m\u001B[1;33m\u001B[0m\u001B[0m\n\u001B[0m\u001B[0;32m      2\u001B[0m \u001B[1;33m\u001B[0m\u001B[0m\n\u001B[0;32m      3\u001B[0m \u001B[1;31m# TODO: Currently this call fails with the following error:\u001B[0m\u001B[1;33m\u001B[0m\u001B[1;33m\u001B[0m\u001B[0m\n\u001B[0;32m      4\u001B[0m \u001B[1;31m#\u001B[0m\u001B[1;33m\u001B[0m\u001B[1;33m\u001B[0m\u001B[0m\n",
      "\u001B[1;32m~\\anaconda3\\lib\\site-packages\\grpc\\_channel.py\u001B[0m in \u001B[0;36m__call__\u001B[1;34m(self, request, timeout, metadata, credentials, wait_for_ready, compression)\u001B[0m\n\u001B[0;32m    944\u001B[0m         state, call, = self._blocking(request, timeout, metadata, credentials,\n\u001B[0;32m    945\u001B[0m                                       wait_for_ready, compression)\n\u001B[1;32m--> 946\u001B[1;33m         \u001B[1;32mreturn\u001B[0m \u001B[0m_end_unary_response_blocking\u001B[0m\u001B[1;33m(\u001B[0m\u001B[0mstate\u001B[0m\u001B[1;33m,\u001B[0m \u001B[0mcall\u001B[0m\u001B[1;33m,\u001B[0m \u001B[1;32mFalse\u001B[0m\u001B[1;33m,\u001B[0m \u001B[1;32mNone\u001B[0m\u001B[1;33m)\u001B[0m\u001B[1;33m\u001B[0m\u001B[1;33m\u001B[0m\u001B[0m\n\u001B[0m\u001B[0;32m    947\u001B[0m \u001B[1;33m\u001B[0m\u001B[0m\n\u001B[0;32m    948\u001B[0m     def with_call(self,\n",
      "\u001B[1;32m~\\anaconda3\\lib\\site-packages\\grpc\\_channel.py\u001B[0m in \u001B[0;36m_end_unary_response_blocking\u001B[1;34m(state, call, with_call, deadline)\u001B[0m\n\u001B[0;32m    847\u001B[0m             \u001B[1;32mreturn\u001B[0m \u001B[0mstate\u001B[0m\u001B[1;33m.\u001B[0m\u001B[0mresponse\u001B[0m\u001B[1;33m\u001B[0m\u001B[1;33m\u001B[0m\u001B[0m\n\u001B[0;32m    848\u001B[0m     \u001B[1;32melse\u001B[0m\u001B[1;33m:\u001B[0m\u001B[1;33m\u001B[0m\u001B[1;33m\u001B[0m\u001B[0m\n\u001B[1;32m--> 849\u001B[1;33m         \u001B[1;32mraise\u001B[0m \u001B[0m_InactiveRpcError\u001B[0m\u001B[1;33m(\u001B[0m\u001B[0mstate\u001B[0m\u001B[1;33m)\u001B[0m\u001B[1;33m\u001B[0m\u001B[1;33m\u001B[0m\u001B[0m\n\u001B[0m\u001B[0;32m    850\u001B[0m \u001B[1;33m\u001B[0m\u001B[0m\n\u001B[0;32m    851\u001B[0m \u001B[1;33m\u001B[0m\u001B[0m\n",
      "\u001B[1;31m_InactiveRpcError\u001B[0m: <_InactiveRpcError of RPC that terminated with:\n\tstatus = StatusCode.UNAVAILABLE\n\tdetails = \"failed to connect to all addresses; last error: UNAVAILABLE: ipv4:127.0.0.1:5046: Failed parsing HTTP/2\"\n\tdebug_error_string = \"UNKNOWN:failed to connect to all addresses; last error: UNAVAILABLE: ipv4:127.0.0.1:5046: Failed parsing HTTP/2 {grpc_status:14, created_time:\"2023-03-09T08:55:49.697503717+00:00\"}\"\n>"
     ]
    }
   ],
   "source": [
    "stub.GetStockPrice(stock_simulator_pb2.StockRequest(symbol='AAPL'))\n",
    "\n",
    "# TODO: Currently this call fails with the following error:\n",
    "# \"failed to connect to all addresses; last error: UNAVAILABLE: ipv4:127.0.0.1:5046: Failed parsing HTTP/2\"\n",
    "# This is a known GRPC issue: https://github.com/grpc/grpc/issues/31589\n",
    "# for now waiting until resolved"
   ],
   "metadata": {
    "collapsed": false
   }
  },
  {
   "cell_type": "code",
   "execution_count": null,
   "outputs": [],
   "source": [],
   "metadata": {
    "collapsed": false
   }
  }
 ],
 "metadata": {
  "kernelspec": {
   "display_name": "Python 3",
   "language": "python",
   "name": "python3"
  },
  "language_info": {
   "codemirror_mode": {
    "name": "ipython",
    "version": 2
   },
   "file_extension": ".py",
   "mimetype": "text/x-python",
   "name": "python",
   "nbconvert_exporter": "python",
   "pygments_lexer": "ipython2",
   "version": "2.7.6"
  }
 },
 "nbformat": 4,
 "nbformat_minor": 0
}
